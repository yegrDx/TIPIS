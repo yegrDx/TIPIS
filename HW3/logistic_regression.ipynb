{
 "cells": [
  {
   "cell_type": "code",
   "execution_count": null,
   "metadata": {
    "colab": {
     "base_uri": "https://localhost:8080/"
    },
    "executionInfo": {
     "elapsed": 5826,
     "status": "ok",
     "timestamp": 1729588061804,
     "user": {
      "displayName": "Yegor Popov",
      "userId": "06042124413976751542"
     },
     "user_tz": -180
    },
    "id": "5NAW9sHSt1wm",
    "outputId": "f21d4fa0-151e-4575-8421-f7d833239add"
   },
   "outputs": [
    {
     "name": "stdout",
     "output_type": "stream",
     "text": [
      "--2024-10-22 09:07:38--  https://archive.ics.uci.edu/static/public/222/bank+marketing.zip\n",
      "Resolving archive.ics.uci.edu (archive.ics.uci.edu)... 128.195.10.252\n",
      "Connecting to archive.ics.uci.edu (archive.ics.uci.edu)|128.195.10.252|:443... connected.\n",
      "HTTP request sent, awaiting response... 200 OK\n",
      "Length: unspecified\n",
      "Saving to: ‘bank+marketing.zip’\n",
      "\n",
      "bank+marketing.zip      [   <=>              ] 999.85K  1.56MB/s    in 0.6s    \n",
      "\n",
      "2024-10-22 09:07:44 (1.56 MB/s) - ‘bank+marketing.zip’ saved [1023843]\n",
      "\n"
     ]
    }
   ],
   "source": [
    "!wget https://archive.ics.uci.edu/static/public/222/bank+marketing.zip"
   ]
  },
  {
   "cell_type": "code",
   "execution_count": null,
   "metadata": {
    "colab": {
     "base_uri": "https://localhost:8080/"
    },
    "executionInfo": {
     "elapsed": 309,
     "status": "ok",
     "timestamp": 1729588064627,
     "user": {
      "displayName": "Yegor Popov",
      "userId": "06042124413976751542"
     },
     "user_tz": -180
    },
    "id": "y1BNgfqeuIOy",
    "outputId": "de9b7a4b-b365-42c3-ec47-abe7128b6597"
   },
   "outputs": [
    {
     "name": "stdout",
     "output_type": "stream",
     "text": [
      "Archive:  bank+marketing.zip\n",
      " extracting: /content/bank.zip       \n",
      " extracting: /content/bank-additional.zip  \n"
     ]
    }
   ],
   "source": [
    "!unzip bank+marketing.zip -d /content/"
   ]
  },
  {
   "cell_type": "code",
   "execution_count": null,
   "metadata": {
    "colab": {
     "base_uri": "https://localhost:8080/"
    },
    "executionInfo": {
     "elapsed": 845,
     "status": "ok",
     "timestamp": 1729588068113,
     "user": {
      "displayName": "Yegor Popov",
      "userId": "06042124413976751542"
     },
     "user_tz": -180
    },
    "id": "udrifqBIzKRv",
    "outputId": "6872785c-425e-4ddf-eb87-34258c6d94c0"
   },
   "outputs": [
    {
     "name": "stdout",
     "output_type": "stream",
     "text": [
      "Archive:  bank-additional.zip\n",
      "   creating: /content/bank-additional/bank-additional/\n",
      "  inflating: /content/bank-additional/bank-additional/.DS_Store  \n",
      "   creating: /content/bank-additional/__MACOSX/\n",
      "   creating: /content/bank-additional/__MACOSX/bank-additional/\n",
      "  inflating: /content/bank-additional/__MACOSX/bank-additional/._.DS_Store  \n",
      "  inflating: /content/bank-additional/bank-additional/.Rhistory  \n",
      "  inflating: /content/bank-additional/bank-additional/bank-additional-full.csv  \n",
      "  inflating: /content/bank-additional/bank-additional/bank-additional-names.txt  \n",
      "  inflating: /content/bank-additional/bank-additional/bank-additional.csv  \n",
      "  inflating: /content/bank-additional/__MACOSX/._bank-additional  \n",
      "Archive:  bank+marketing.zip\n",
      " extracting: /content/bank-marketing/bank.zip  \n",
      " extracting: /content/bank-marketing/bank-additional.zip  \n",
      "Archive:  bank.zip\n",
      "  inflating: /content/bank/bank-full.csv  \n",
      "  inflating: /content/bank/bank-names.txt  \n",
      "  inflating: /content/bank/bank.csv  \n"
     ]
    }
   ],
   "source": [
    "!unzip bank-additional.zip -d /content/bank-additional/\n",
    "!unzip bank+marketing.zip -d /content/bank-marketing/\n",
    "!unzip bank.zip -d /content/bank/\n"
   ]
  },
  {
   "cell_type": "code",
   "execution_count": null,
   "metadata": {
    "executionInfo": {
     "elapsed": 3626,
     "status": "ok",
     "timestamp": 1729588075786,
     "user": {
      "displayName": "Yegor Popov",
      "userId": "06042124413976751542"
     },
     "user_tz": -180
    },
    "id": "W77SqbzU3YTh"
   },
   "outputs": [],
   "source": [
    "import numpy as np\n",
    "import pandas as pd\n",
    "import sklearn as sk"
   ]
  },
  {
   "cell_type": "code",
   "execution_count": null,
   "metadata": {
    "colab": {
     "base_uri": "https://localhost:8080/"
    },
    "executionInfo": {
     "elapsed": 419,
     "status": "ok",
     "timestamp": 1729588076203,
     "user": {
      "displayName": "Yegor Popov",
      "userId": "06042124413976751542"
     },
     "user_tz": -180
    },
    "id": "rgXB2qX03g6j",
    "outputId": "dadac79d-a660-4e9f-d0a1-8b033411d15f"
   },
   "outputs": [
    {
     "name": "stdout",
     "output_type": "stream",
     "text": [
      "<class 'pandas.core.frame.DataFrame'>\n",
      "RangeIndex: 45211 entries, 0 to 45210\n",
      "Data columns (total 17 columns):\n",
      " #   Column     Non-Null Count  Dtype \n",
      "---  ------     --------------  ----- \n",
      " 0   age        45211 non-null  int64 \n",
      " 1   job        45211 non-null  object\n",
      " 2   marital    45211 non-null  object\n",
      " 3   education  45211 non-null  object\n",
      " 4   default    45211 non-null  object\n",
      " 5   balance    45211 non-null  int64 \n",
      " 6   housing    45211 non-null  object\n",
      " 7   loan       45211 non-null  object\n",
      " 8   contact    45211 non-null  object\n",
      " 9   day        45211 non-null  int64 \n",
      " 10  month      45211 non-null  object\n",
      " 11  duration   45211 non-null  int64 \n",
      " 12  campaign   45211 non-null  int64 \n",
      " 13  pdays      45211 non-null  int64 \n",
      " 14  previous   45211 non-null  int64 \n",
      " 15  poutcome   45211 non-null  object\n",
      " 16  y          45211 non-null  object\n",
      "dtypes: int64(7), object(10)\n",
      "memory usage: 5.9+ MB\n"
     ]
    }
   ],
   "source": [
    "df = pd.read_csv('/content/bank/bank-full.csv', sep=';')\n",
    "df.info()"
   ]
  },
  {
   "cell_type": "markdown",
   "metadata": {
    "id": "SRNPLaBT858M"
   },
   "source": [
    "Признаки\n",
    "Для оставшейся части домашнего задания вам нужно будет использовать только следующие столбцы:\n",
    "\n",
    "age,\n",
    "job,\n",
    "marital,\n",
    "education,\n",
    "balance,\n",
    "housing,\n",
    "contact,\n",
    "day,\n",
    "month,\n",
    "duration,\n",
    "campaign,\n",
    "pdays,\n",
    "previous,\n",
    "poutcome,\n",
    "y\n",
    "Подготовка данных\n",
    "Выберите только указанные выше признаки.\n",
    "Проверьте, есть ли пропущенные значения в этих признаках."
   ]
  },
  {
   "cell_type": "code",
   "execution_count": null,
   "metadata": {
    "executionInfo": {
     "elapsed": 321,
     "status": "ok",
     "timestamp": 1729588078754,
     "user": {
      "displayName": "Yegor Popov",
      "userId": "06042124413976751542"
     },
     "user_tz": -180
    },
    "id": "OfYU1L4K4ZOY"
   },
   "outputs": [],
   "source": [
    "df = df[['age', 'job', 'marital', 'education', 'balance', 'housing', 'contact',\n",
    "         'day', 'month', 'duration', 'campaign', 'pdays', 'previous', 'poutcome', 'y']]\n"
   ]
  },
  {
   "cell_type": "code",
   "execution_count": null,
   "metadata": {
    "colab": {
     "base_uri": "https://localhost:8080/",
     "height": 519
    },
    "executionInfo": {
     "elapsed": 323,
     "status": "ok",
     "timestamp": 1729592385655,
     "user": {
      "displayName": "Yegor Popov",
      "userId": "06042124413976751542"
     },
     "user_tz": -180
    },
    "id": "T1pII0EkCLtD",
    "outputId": "f660326b-65ad-4ee9-f90b-9ad163829fbc"
   },
   "outputs": [
    {
     "data": {
      "application/vnd.google.colaboratory.intrinsic+json": {
       "summary": "{\n  \"name\": \"df\",\n  \"rows\": 45211,\n  \"fields\": [\n    {\n      \"column\": \"age\",\n      \"properties\": {\n        \"dtype\": \"number\",\n        \"std\": 10,\n        \"min\": 18,\n        \"max\": 95,\n        \"num_unique_values\": 77,\n        \"samples\": [\n          35,\n          34,\n          53\n        ],\n        \"semantic_type\": \"\",\n        \"description\": \"\"\n      }\n    },\n    {\n      \"column\": \"job\",\n      \"properties\": {\n        \"dtype\": \"category\",\n        \"num_unique_values\": 12,\n        \"samples\": [\n          \"housemaid\",\n          \"unemployed\",\n          \"management\"\n        ],\n        \"semantic_type\": \"\",\n        \"description\": \"\"\n      }\n    },\n    {\n      \"column\": \"marital\",\n      \"properties\": {\n        \"dtype\": \"category\",\n        \"num_unique_values\": 3,\n        \"samples\": [\n          \"married\",\n          \"single\",\n          \"divorced\"\n        ],\n        \"semantic_type\": \"\",\n        \"description\": \"\"\n      }\n    },\n    {\n      \"column\": \"education\",\n      \"properties\": {\n        \"dtype\": \"category\",\n        \"num_unique_values\": 4,\n        \"samples\": [\n          \"secondary\",\n          \"primary\",\n          \"tertiary\"\n        ],\n        \"semantic_type\": \"\",\n        \"description\": \"\"\n      }\n    },\n    {\n      \"column\": \"balance\",\n      \"properties\": {\n        \"dtype\": \"number\",\n        \"std\": 3044,\n        \"min\": -8019,\n        \"max\": 102127,\n        \"num_unique_values\": 7168,\n        \"samples\": [\n          3276,\n          43,\n          7003\n        ],\n        \"semantic_type\": \"\",\n        \"description\": \"\"\n      }\n    },\n    {\n      \"column\": \"housing\",\n      \"properties\": {\n        \"dtype\": \"category\",\n        \"num_unique_values\": 2,\n        \"samples\": [\n          \"no\",\n          \"yes\"\n        ],\n        \"semantic_type\": \"\",\n        \"description\": \"\"\n      }\n    },\n    {\n      \"column\": \"contact\",\n      \"properties\": {\n        \"dtype\": \"category\",\n        \"num_unique_values\": 3,\n        \"samples\": [\n          \"unknown\",\n          \"cellular\"\n        ],\n        \"semantic_type\": \"\",\n        \"description\": \"\"\n      }\n    },\n    {\n      \"column\": \"day\",\n      \"properties\": {\n        \"dtype\": \"number\",\n        \"std\": 8,\n        \"min\": 1,\n        \"max\": 31,\n        \"num_unique_values\": 31,\n        \"samples\": [\n          1,\n          27\n        ],\n        \"semantic_type\": \"\",\n        \"description\": \"\"\n      }\n    },\n    {\n      \"column\": \"month\",\n      \"properties\": {\n        \"dtype\": \"category\",\n        \"num_unique_values\": 12,\n        \"samples\": [\n          \"apr\",\n          \"mar\"\n        ],\n        \"semantic_type\": \"\",\n        \"description\": \"\"\n      }\n    },\n    {\n      \"column\": \"duration\",\n      \"properties\": {\n        \"dtype\": \"number\",\n        \"std\": 257,\n        \"min\": 0,\n        \"max\": 4918,\n        \"num_unique_values\": 1573,\n        \"samples\": [\n          835,\n          1135\n        ],\n        \"semantic_type\": \"\",\n        \"description\": \"\"\n      }\n    },\n    {\n      \"column\": \"campaign\",\n      \"properties\": {\n        \"dtype\": \"number\",\n        \"std\": 3,\n        \"min\": 1,\n        \"max\": 63,\n        \"num_unique_values\": 48,\n        \"samples\": [\n          41,\n          27\n        ],\n        \"semantic_type\": \"\",\n        \"description\": \"\"\n      }\n    },\n    {\n      \"column\": \"pdays\",\n      \"properties\": {\n        \"dtype\": \"number\",\n        \"std\": 100,\n        \"min\": -1,\n        \"max\": 871,\n        \"num_unique_values\": 559,\n        \"samples\": [\n          249,\n          551\n        ],\n        \"semantic_type\": \"\",\n        \"description\": \"\"\n      }\n    },\n    {\n      \"column\": \"previous\",\n      \"properties\": {\n        \"dtype\": \"number\",\n        \"std\": 2,\n        \"min\": 0,\n        \"max\": 275,\n        \"num_unique_values\": 41,\n        \"samples\": [\n          17,\n          9\n        ],\n        \"semantic_type\": \"\",\n        \"description\": \"\"\n      }\n    },\n    {\n      \"column\": \"poutcome\",\n      \"properties\": {\n        \"dtype\": \"category\",\n        \"num_unique_values\": 4,\n        \"samples\": [\n          \"failure\",\n          \"success\"\n        ],\n        \"semantic_type\": \"\",\n        \"description\": \"\"\n      }\n    },\n    {\n      \"column\": \"y\",\n      \"properties\": {\n        \"dtype\": \"number\",\n        \"std\": 0,\n        \"min\": 0,\n        \"max\": 1,\n        \"num_unique_values\": 2,\n        \"samples\": [\n          1,\n          0\n        ],\n        \"semantic_type\": \"\",\n        \"description\": \"\"\n      }\n    }\n  ]\n}",
       "type": "dataframe",
       "variable_name": "df"
      },
      "text/html": [
       "\n",
       "  <div id=\"df-1e335151-cf9e-4765-96eb-b268cb22fcf2\" class=\"colab-df-container\">\n",
       "    <div>\n",
       "<style scoped>\n",
       "    .dataframe tbody tr th:only-of-type {\n",
       "        vertical-align: middle;\n",
       "    }\n",
       "\n",
       "    .dataframe tbody tr th {\n",
       "        vertical-align: top;\n",
       "    }\n",
       "\n",
       "    .dataframe thead th {\n",
       "        text-align: right;\n",
       "    }\n",
       "</style>\n",
       "<table border=\"1\" class=\"dataframe\">\n",
       "  <thead>\n",
       "    <tr style=\"text-align: right;\">\n",
       "      <th></th>\n",
       "      <th>0</th>\n",
       "      <th>1</th>\n",
       "      <th>2</th>\n",
       "      <th>3</th>\n",
       "      <th>4</th>\n",
       "      <th>5</th>\n",
       "      <th>6</th>\n",
       "      <th>7</th>\n",
       "      <th>8</th>\n",
       "      <th>9</th>\n",
       "    </tr>\n",
       "  </thead>\n",
       "  <tbody>\n",
       "    <tr>\n",
       "      <th>age</th>\n",
       "      <td>58</td>\n",
       "      <td>44</td>\n",
       "      <td>33</td>\n",
       "      <td>47</td>\n",
       "      <td>33</td>\n",
       "      <td>35</td>\n",
       "      <td>28</td>\n",
       "      <td>42</td>\n",
       "      <td>58</td>\n",
       "      <td>43</td>\n",
       "    </tr>\n",
       "    <tr>\n",
       "      <th>job</th>\n",
       "      <td>management</td>\n",
       "      <td>technician</td>\n",
       "      <td>entrepreneur</td>\n",
       "      <td>blue-collar</td>\n",
       "      <td>unknown</td>\n",
       "      <td>management</td>\n",
       "      <td>management</td>\n",
       "      <td>entrepreneur</td>\n",
       "      <td>retired</td>\n",
       "      <td>technician</td>\n",
       "    </tr>\n",
       "    <tr>\n",
       "      <th>marital</th>\n",
       "      <td>married</td>\n",
       "      <td>single</td>\n",
       "      <td>married</td>\n",
       "      <td>married</td>\n",
       "      <td>single</td>\n",
       "      <td>married</td>\n",
       "      <td>single</td>\n",
       "      <td>divorced</td>\n",
       "      <td>married</td>\n",
       "      <td>single</td>\n",
       "    </tr>\n",
       "    <tr>\n",
       "      <th>education</th>\n",
       "      <td>tertiary</td>\n",
       "      <td>secondary</td>\n",
       "      <td>secondary</td>\n",
       "      <td>unknown</td>\n",
       "      <td>unknown</td>\n",
       "      <td>tertiary</td>\n",
       "      <td>tertiary</td>\n",
       "      <td>tertiary</td>\n",
       "      <td>primary</td>\n",
       "      <td>secondary</td>\n",
       "    </tr>\n",
       "    <tr>\n",
       "      <th>balance</th>\n",
       "      <td>2143</td>\n",
       "      <td>29</td>\n",
       "      <td>2</td>\n",
       "      <td>1506</td>\n",
       "      <td>1</td>\n",
       "      <td>231</td>\n",
       "      <td>447</td>\n",
       "      <td>2</td>\n",
       "      <td>121</td>\n",
       "      <td>593</td>\n",
       "    </tr>\n",
       "    <tr>\n",
       "      <th>housing</th>\n",
       "      <td>yes</td>\n",
       "      <td>yes</td>\n",
       "      <td>yes</td>\n",
       "      <td>yes</td>\n",
       "      <td>no</td>\n",
       "      <td>yes</td>\n",
       "      <td>yes</td>\n",
       "      <td>yes</td>\n",
       "      <td>yes</td>\n",
       "      <td>yes</td>\n",
       "    </tr>\n",
       "    <tr>\n",
       "      <th>contact</th>\n",
       "      <td>unknown</td>\n",
       "      <td>unknown</td>\n",
       "      <td>unknown</td>\n",
       "      <td>unknown</td>\n",
       "      <td>unknown</td>\n",
       "      <td>unknown</td>\n",
       "      <td>unknown</td>\n",
       "      <td>unknown</td>\n",
       "      <td>unknown</td>\n",
       "      <td>unknown</td>\n",
       "    </tr>\n",
       "    <tr>\n",
       "      <th>day</th>\n",
       "      <td>5</td>\n",
       "      <td>5</td>\n",
       "      <td>5</td>\n",
       "      <td>5</td>\n",
       "      <td>5</td>\n",
       "      <td>5</td>\n",
       "      <td>5</td>\n",
       "      <td>5</td>\n",
       "      <td>5</td>\n",
       "      <td>5</td>\n",
       "    </tr>\n",
       "    <tr>\n",
       "      <th>month</th>\n",
       "      <td>may</td>\n",
       "      <td>may</td>\n",
       "      <td>may</td>\n",
       "      <td>may</td>\n",
       "      <td>may</td>\n",
       "      <td>may</td>\n",
       "      <td>may</td>\n",
       "      <td>may</td>\n",
       "      <td>may</td>\n",
       "      <td>may</td>\n",
       "    </tr>\n",
       "    <tr>\n",
       "      <th>duration</th>\n",
       "      <td>261</td>\n",
       "      <td>151</td>\n",
       "      <td>76</td>\n",
       "      <td>92</td>\n",
       "      <td>198</td>\n",
       "      <td>139</td>\n",
       "      <td>217</td>\n",
       "      <td>380</td>\n",
       "      <td>50</td>\n",
       "      <td>55</td>\n",
       "    </tr>\n",
       "    <tr>\n",
       "      <th>campaign</th>\n",
       "      <td>1</td>\n",
       "      <td>1</td>\n",
       "      <td>1</td>\n",
       "      <td>1</td>\n",
       "      <td>1</td>\n",
       "      <td>1</td>\n",
       "      <td>1</td>\n",
       "      <td>1</td>\n",
       "      <td>1</td>\n",
       "      <td>1</td>\n",
       "    </tr>\n",
       "    <tr>\n",
       "      <th>pdays</th>\n",
       "      <td>-1</td>\n",
       "      <td>-1</td>\n",
       "      <td>-1</td>\n",
       "      <td>-1</td>\n",
       "      <td>-1</td>\n",
       "      <td>-1</td>\n",
       "      <td>-1</td>\n",
       "      <td>-1</td>\n",
       "      <td>-1</td>\n",
       "      <td>-1</td>\n",
       "    </tr>\n",
       "    <tr>\n",
       "      <th>previous</th>\n",
       "      <td>0</td>\n",
       "      <td>0</td>\n",
       "      <td>0</td>\n",
       "      <td>0</td>\n",
       "      <td>0</td>\n",
       "      <td>0</td>\n",
       "      <td>0</td>\n",
       "      <td>0</td>\n",
       "      <td>0</td>\n",
       "      <td>0</td>\n",
       "    </tr>\n",
       "    <tr>\n",
       "      <th>poutcome</th>\n",
       "      <td>unknown</td>\n",
       "      <td>unknown</td>\n",
       "      <td>unknown</td>\n",
       "      <td>unknown</td>\n",
       "      <td>unknown</td>\n",
       "      <td>unknown</td>\n",
       "      <td>unknown</td>\n",
       "      <td>unknown</td>\n",
       "      <td>unknown</td>\n",
       "      <td>unknown</td>\n",
       "    </tr>\n",
       "    <tr>\n",
       "      <th>y</th>\n",
       "      <td>0</td>\n",
       "      <td>0</td>\n",
       "      <td>0</td>\n",
       "      <td>0</td>\n",
       "      <td>0</td>\n",
       "      <td>0</td>\n",
       "      <td>0</td>\n",
       "      <td>0</td>\n",
       "      <td>0</td>\n",
       "      <td>0</td>\n",
       "    </tr>\n",
       "  </tbody>\n",
       "</table>\n",
       "</div>\n",
       "    <div class=\"colab-df-buttons\">\n",
       "\n",
       "  <div class=\"colab-df-container\">\n",
       "    <button class=\"colab-df-convert\" onclick=\"convertToInteractive('df-1e335151-cf9e-4765-96eb-b268cb22fcf2')\"\n",
       "            title=\"Convert this dataframe to an interactive table.\"\n",
       "            style=\"display:none;\">\n",
       "\n",
       "  <svg xmlns=\"http://www.w3.org/2000/svg\" height=\"24px\" viewBox=\"0 -960 960 960\">\n",
       "    <path d=\"M120-120v-720h720v720H120Zm60-500h600v-160H180v160Zm220 220h160v-160H400v160Zm0 220h160v-160H400v160ZM180-400h160v-160H180v160Zm440 0h160v-160H620v160ZM180-180h160v-160H180v160Zm440 0h160v-160H620v160Z\"/>\n",
       "  </svg>\n",
       "    </button>\n",
       "\n",
       "  <style>\n",
       "    .colab-df-container {\n",
       "      display:flex;\n",
       "      gap: 12px;\n",
       "    }\n",
       "\n",
       "    .colab-df-convert {\n",
       "      background-color: #E8F0FE;\n",
       "      border: none;\n",
       "      border-radius: 50%;\n",
       "      cursor: pointer;\n",
       "      display: none;\n",
       "      fill: #1967D2;\n",
       "      height: 32px;\n",
       "      padding: 0 0 0 0;\n",
       "      width: 32px;\n",
       "    }\n",
       "\n",
       "    .colab-df-convert:hover {\n",
       "      background-color: #E2EBFA;\n",
       "      box-shadow: 0px 1px 2px rgba(60, 64, 67, 0.3), 0px 1px 3px 1px rgba(60, 64, 67, 0.15);\n",
       "      fill: #174EA6;\n",
       "    }\n",
       "\n",
       "    .colab-df-buttons div {\n",
       "      margin-bottom: 4px;\n",
       "    }\n",
       "\n",
       "    [theme=dark] .colab-df-convert {\n",
       "      background-color: #3B4455;\n",
       "      fill: #D2E3FC;\n",
       "    }\n",
       "\n",
       "    [theme=dark] .colab-df-convert:hover {\n",
       "      background-color: #434B5C;\n",
       "      box-shadow: 0px 1px 3px 1px rgba(0, 0, 0, 0.15);\n",
       "      filter: drop-shadow(0px 1px 2px rgba(0, 0, 0, 0.3));\n",
       "      fill: #FFFFFF;\n",
       "    }\n",
       "  </style>\n",
       "\n",
       "    <script>\n",
       "      const buttonEl =\n",
       "        document.querySelector('#df-1e335151-cf9e-4765-96eb-b268cb22fcf2 button.colab-df-convert');\n",
       "      buttonEl.style.display =\n",
       "        google.colab.kernel.accessAllowed ? 'block' : 'none';\n",
       "\n",
       "      async function convertToInteractive(key) {\n",
       "        const element = document.querySelector('#df-1e335151-cf9e-4765-96eb-b268cb22fcf2');\n",
       "        const dataTable =\n",
       "          await google.colab.kernel.invokeFunction('convertToInteractive',\n",
       "                                                    [key], {});\n",
       "        if (!dataTable) return;\n",
       "\n",
       "        const docLinkHtml = 'Like what you see? Visit the ' +\n",
       "          '<a target=\"_blank\" href=https://colab.research.google.com/notebooks/data_table.ipynb>data table notebook</a>'\n",
       "          + ' to learn more about interactive tables.';\n",
       "        element.innerHTML = '';\n",
       "        dataTable['output_type'] = 'display_data';\n",
       "        await google.colab.output.renderOutput(dataTable, element);\n",
       "        const docLink = document.createElement('div');\n",
       "        docLink.innerHTML = docLinkHtml;\n",
       "        element.appendChild(docLink);\n",
       "      }\n",
       "    </script>\n",
       "  </div>\n",
       "\n",
       "\n",
       "<div id=\"df-2b3b20d9-dafc-43e8-bf67-bc66b4f5ef1d\">\n",
       "  <button class=\"colab-df-quickchart\" onclick=\"quickchart('df-2b3b20d9-dafc-43e8-bf67-bc66b4f5ef1d')\"\n",
       "            title=\"Suggest charts\"\n",
       "            style=\"display:none;\">\n",
       "\n",
       "<svg xmlns=\"http://www.w3.org/2000/svg\" height=\"24px\"viewBox=\"0 0 24 24\"\n",
       "     width=\"24px\">\n",
       "    <g>\n",
       "        <path d=\"M19 3H5c-1.1 0-2 .9-2 2v14c0 1.1.9 2 2 2h14c1.1 0 2-.9 2-2V5c0-1.1-.9-2-2-2zM9 17H7v-7h2v7zm4 0h-2V7h2v10zm4 0h-2v-4h2v4z\"/>\n",
       "    </g>\n",
       "</svg>\n",
       "  </button>\n",
       "\n",
       "<style>\n",
       "  .colab-df-quickchart {\n",
       "      --bg-color: #E8F0FE;\n",
       "      --fill-color: #1967D2;\n",
       "      --hover-bg-color: #E2EBFA;\n",
       "      --hover-fill-color: #174EA6;\n",
       "      --disabled-fill-color: #AAA;\n",
       "      --disabled-bg-color: #DDD;\n",
       "  }\n",
       "\n",
       "  [theme=dark] .colab-df-quickchart {\n",
       "      --bg-color: #3B4455;\n",
       "      --fill-color: #D2E3FC;\n",
       "      --hover-bg-color: #434B5C;\n",
       "      --hover-fill-color: #FFFFFF;\n",
       "      --disabled-bg-color: #3B4455;\n",
       "      --disabled-fill-color: #666;\n",
       "  }\n",
       "\n",
       "  .colab-df-quickchart {\n",
       "    background-color: var(--bg-color);\n",
       "    border: none;\n",
       "    border-radius: 50%;\n",
       "    cursor: pointer;\n",
       "    display: none;\n",
       "    fill: var(--fill-color);\n",
       "    height: 32px;\n",
       "    padding: 0;\n",
       "    width: 32px;\n",
       "  }\n",
       "\n",
       "  .colab-df-quickchart:hover {\n",
       "    background-color: var(--hover-bg-color);\n",
       "    box-shadow: 0 1px 2px rgba(60, 64, 67, 0.3), 0 1px 3px 1px rgba(60, 64, 67, 0.15);\n",
       "    fill: var(--button-hover-fill-color);\n",
       "  }\n",
       "\n",
       "  .colab-df-quickchart-complete:disabled,\n",
       "  .colab-df-quickchart-complete:disabled:hover {\n",
       "    background-color: var(--disabled-bg-color);\n",
       "    fill: var(--disabled-fill-color);\n",
       "    box-shadow: none;\n",
       "  }\n",
       "\n",
       "  .colab-df-spinner {\n",
       "    border: 2px solid var(--fill-color);\n",
       "    border-color: transparent;\n",
       "    border-bottom-color: var(--fill-color);\n",
       "    animation:\n",
       "      spin 1s steps(1) infinite;\n",
       "  }\n",
       "\n",
       "  @keyframes spin {\n",
       "    0% {\n",
       "      border-color: transparent;\n",
       "      border-bottom-color: var(--fill-color);\n",
       "      border-left-color: var(--fill-color);\n",
       "    }\n",
       "    20% {\n",
       "      border-color: transparent;\n",
       "      border-left-color: var(--fill-color);\n",
       "      border-top-color: var(--fill-color);\n",
       "    }\n",
       "    30% {\n",
       "      border-color: transparent;\n",
       "      border-left-color: var(--fill-color);\n",
       "      border-top-color: var(--fill-color);\n",
       "      border-right-color: var(--fill-color);\n",
       "    }\n",
       "    40% {\n",
       "      border-color: transparent;\n",
       "      border-right-color: var(--fill-color);\n",
       "      border-top-color: var(--fill-color);\n",
       "    }\n",
       "    60% {\n",
       "      border-color: transparent;\n",
       "      border-right-color: var(--fill-color);\n",
       "    }\n",
       "    80% {\n",
       "      border-color: transparent;\n",
       "      border-right-color: var(--fill-color);\n",
       "      border-bottom-color: var(--fill-color);\n",
       "    }\n",
       "    90% {\n",
       "      border-color: transparent;\n",
       "      border-bottom-color: var(--fill-color);\n",
       "    }\n",
       "  }\n",
       "</style>\n",
       "\n",
       "  <script>\n",
       "    async function quickchart(key) {\n",
       "      const quickchartButtonEl =\n",
       "        document.querySelector('#' + key + ' button');\n",
       "      quickchartButtonEl.disabled = true;  // To prevent multiple clicks.\n",
       "      quickchartButtonEl.classList.add('colab-df-spinner');\n",
       "      try {\n",
       "        const charts = await google.colab.kernel.invokeFunction(\n",
       "            'suggestCharts', [key], {});\n",
       "      } catch (error) {\n",
       "        console.error('Error during call to suggestCharts:', error);\n",
       "      }\n",
       "      quickchartButtonEl.classList.remove('colab-df-spinner');\n",
       "      quickchartButtonEl.classList.add('colab-df-quickchart-complete');\n",
       "    }\n",
       "    (() => {\n",
       "      let quickchartButtonEl =\n",
       "        document.querySelector('#df-2b3b20d9-dafc-43e8-bf67-bc66b4f5ef1d button');\n",
       "      quickchartButtonEl.style.display =\n",
       "        google.colab.kernel.accessAllowed ? 'block' : 'none';\n",
       "    })();\n",
       "  </script>\n",
       "</div>\n",
       "\n",
       "    </div>\n",
       "  </div>\n"
      ],
      "text/plain": [
       "                    0           1             2            3        4  \\\n",
       "age                58          44            33           47       33   \n",
       "job        management  technician  entrepreneur  blue-collar  unknown   \n",
       "marital       married      single       married      married   single   \n",
       "education    tertiary   secondary     secondary      unknown  unknown   \n",
       "balance          2143          29             2         1506        1   \n",
       "housing           yes         yes           yes          yes       no   \n",
       "contact       unknown     unknown       unknown      unknown  unknown   \n",
       "day                 5           5             5            5        5   \n",
       "month             may         may           may          may      may   \n",
       "duration          261         151            76           92      198   \n",
       "campaign            1           1             1            1        1   \n",
       "pdays              -1          -1            -1           -1       -1   \n",
       "previous            0           0             0            0        0   \n",
       "poutcome      unknown     unknown       unknown      unknown  unknown   \n",
       "y                   0           0             0            0        0   \n",
       "\n",
       "                    5           6             7        8           9  \n",
       "age                35          28            42       58          43  \n",
       "job        management  management  entrepreneur  retired  technician  \n",
       "marital       married      single      divorced  married      single  \n",
       "education    tertiary    tertiary      tertiary  primary   secondary  \n",
       "balance           231         447             2      121         593  \n",
       "housing           yes         yes           yes      yes         yes  \n",
       "contact       unknown     unknown       unknown  unknown     unknown  \n",
       "day                 5           5             5        5           5  \n",
       "month             may         may           may      may         may  \n",
       "duration          139         217           380       50          55  \n",
       "campaign            1           1             1        1           1  \n",
       "pdays              -1          -1            -1       -1          -1  \n",
       "previous            0           0             0        0           0  \n",
       "poutcome      unknown     unknown       unknown  unknown     unknown  \n",
       "y                   0           0             0        0           0  "
      ]
     },
     "execution_count": 23,
     "metadata": {},
     "output_type": "execute_result"
    }
   ],
   "source": [
    "df.head(10).T"
   ]
  },
  {
   "cell_type": "markdown",
   "metadata": {
    "id": "2j4wYgd48Xlm"
   },
   "source": [
    "Вопрос 1\n",
    "Какое самое частое значение (mode) для столбца education?\n",
    "\n",
    "unknown\n",
    "primary\n",
    "secondary\n",
    "tertiary"
   ]
  },
  {
   "cell_type": "code",
   "execution_count": null,
   "metadata": {
    "colab": {
     "base_uri": "https://localhost:8080/",
     "height": 115
    },
    "executionInfo": {
     "elapsed": 336,
     "status": "ok",
     "timestamp": 1729588082453,
     "user": {
      "displayName": "Yegor Popov",
      "userId": "06042124413976751542"
     },
     "user_tz": -180
    },
    "id": "xPDbt1byASzz",
    "outputId": "1c390287-ab3a-412c-def1-6bfd49d18e7a"
   },
   "outputs": [
    {
     "data": {
      "text/html": [
       "<div>\n",
       "<style scoped>\n",
       "    .dataframe tbody tr th:only-of-type {\n",
       "        vertical-align: middle;\n",
       "    }\n",
       "\n",
       "    .dataframe tbody tr th {\n",
       "        vertical-align: top;\n",
       "    }\n",
       "\n",
       "    .dataframe thead th {\n",
       "        text-align: right;\n",
       "    }\n",
       "</style>\n",
       "<table border=\"1\" class=\"dataframe\">\n",
       "  <thead>\n",
       "    <tr style=\"text-align: right;\">\n",
       "      <th></th>\n",
       "      <th>education</th>\n",
       "    </tr>\n",
       "  </thead>\n",
       "  <tbody>\n",
       "    <tr>\n",
       "      <th>0</th>\n",
       "      <td>secondary</td>\n",
       "    </tr>\n",
       "  </tbody>\n",
       "</table>\n",
       "</div><br><label><b>dtype:</b> object</label>"
      ],
      "text/plain": [
       "0    secondary\n",
       "Name: education, dtype: object"
      ]
     },
     "execution_count": 8,
     "metadata": {},
     "output_type": "execute_result"
    }
   ],
   "source": [
    "df['education'].mode()"
   ]
  },
  {
   "cell_type": "code",
   "execution_count": null,
   "metadata": {
    "executionInfo": {
     "elapsed": 2,
     "status": "ok",
     "timestamp": 1729588083515,
     "user": {
      "displayName": "Yegor Popov",
      "userId": "06042124413976751542"
     },
     "user_tz": -180
    },
    "id": "lwLzwvtQFB43"
   },
   "outputs": [],
   "source": [
    "df_selected = df[[\"age\", \"balance\", \"day\", \"campaign\", \"pdays\", \"previous\"]]"
   ]
  },
  {
   "cell_type": "code",
   "execution_count": null,
   "metadata": {
    "colab": {
     "base_uri": "https://localhost:8080/",
     "height": 273
    },
    "executionInfo": {
     "elapsed": 324,
     "status": "ok",
     "timestamp": 1729588741299,
     "user": {
      "displayName": "Yegor Popov",
      "userId": "06042124413976751542"
     },
     "user_tz": -180
    },
    "id": "E_0x9i0nDfrU",
    "outputId": "7f39c672-a999-4f6c-d14a-03a9d795f9a9"
   },
   "outputs": [
    {
     "data": {
      "application/vnd.google.colaboratory.intrinsic+json": {
       "type": "dataframe",
       "variable_name": "df_encoded"
      },
      "text/html": [
       "\n",
       "  <div id=\"df-ab4953d6-689e-4e92-b6e5-bbdc1dbb367f\" class=\"colab-df-container\">\n",
       "    <div>\n",
       "<style scoped>\n",
       "    .dataframe tbody tr th:only-of-type {\n",
       "        vertical-align: middle;\n",
       "    }\n",
       "\n",
       "    .dataframe tbody tr th {\n",
       "        vertical-align: top;\n",
       "    }\n",
       "\n",
       "    .dataframe thead th {\n",
       "        text-align: right;\n",
       "    }\n",
       "</style>\n",
       "<table border=\"1\" class=\"dataframe\">\n",
       "  <thead>\n",
       "    <tr style=\"text-align: right;\">\n",
       "      <th></th>\n",
       "      <th>age</th>\n",
       "      <th>balance</th>\n",
       "      <th>day</th>\n",
       "      <th>duration</th>\n",
       "      <th>campaign</th>\n",
       "      <th>pdays</th>\n",
       "      <th>previous</th>\n",
       "      <th>y</th>\n",
       "      <th>job_blue-collar</th>\n",
       "      <th>job_entrepreneur</th>\n",
       "      <th>...</th>\n",
       "      <th>month_jul</th>\n",
       "      <th>month_jun</th>\n",
       "      <th>month_mar</th>\n",
       "      <th>month_may</th>\n",
       "      <th>month_nov</th>\n",
       "      <th>month_oct</th>\n",
       "      <th>month_sep</th>\n",
       "      <th>poutcome_other</th>\n",
       "      <th>poutcome_success</th>\n",
       "      <th>poutcome_unknown</th>\n",
       "    </tr>\n",
       "  </thead>\n",
       "  <tbody>\n",
       "    <tr>\n",
       "      <th>0</th>\n",
       "      <td>58</td>\n",
       "      <td>2143</td>\n",
       "      <td>5</td>\n",
       "      <td>261</td>\n",
       "      <td>1</td>\n",
       "      <td>-1</td>\n",
       "      <td>0</td>\n",
       "      <td>0</td>\n",
       "      <td>False</td>\n",
       "      <td>False</td>\n",
       "      <td>...</td>\n",
       "      <td>False</td>\n",
       "      <td>False</td>\n",
       "      <td>False</td>\n",
       "      <td>True</td>\n",
       "      <td>False</td>\n",
       "      <td>False</td>\n",
       "      <td>False</td>\n",
       "      <td>False</td>\n",
       "      <td>False</td>\n",
       "      <td>True</td>\n",
       "    </tr>\n",
       "    <tr>\n",
       "      <th>1</th>\n",
       "      <td>44</td>\n",
       "      <td>29</td>\n",
       "      <td>5</td>\n",
       "      <td>151</td>\n",
       "      <td>1</td>\n",
       "      <td>-1</td>\n",
       "      <td>0</td>\n",
       "      <td>0</td>\n",
       "      <td>False</td>\n",
       "      <td>False</td>\n",
       "      <td>...</td>\n",
       "      <td>False</td>\n",
       "      <td>False</td>\n",
       "      <td>False</td>\n",
       "      <td>True</td>\n",
       "      <td>False</td>\n",
       "      <td>False</td>\n",
       "      <td>False</td>\n",
       "      <td>False</td>\n",
       "      <td>False</td>\n",
       "      <td>True</td>\n",
       "    </tr>\n",
       "    <tr>\n",
       "      <th>2</th>\n",
       "      <td>33</td>\n",
       "      <td>2</td>\n",
       "      <td>5</td>\n",
       "      <td>76</td>\n",
       "      <td>1</td>\n",
       "      <td>-1</td>\n",
       "      <td>0</td>\n",
       "      <td>0</td>\n",
       "      <td>False</td>\n",
       "      <td>True</td>\n",
       "      <td>...</td>\n",
       "      <td>False</td>\n",
       "      <td>False</td>\n",
       "      <td>False</td>\n",
       "      <td>True</td>\n",
       "      <td>False</td>\n",
       "      <td>False</td>\n",
       "      <td>False</td>\n",
       "      <td>False</td>\n",
       "      <td>False</td>\n",
       "      <td>True</td>\n",
       "    </tr>\n",
       "    <tr>\n",
       "      <th>3</th>\n",
       "      <td>47</td>\n",
       "      <td>1506</td>\n",
       "      <td>5</td>\n",
       "      <td>92</td>\n",
       "      <td>1</td>\n",
       "      <td>-1</td>\n",
       "      <td>0</td>\n",
       "      <td>0</td>\n",
       "      <td>True</td>\n",
       "      <td>False</td>\n",
       "      <td>...</td>\n",
       "      <td>False</td>\n",
       "      <td>False</td>\n",
       "      <td>False</td>\n",
       "      <td>True</td>\n",
       "      <td>False</td>\n",
       "      <td>False</td>\n",
       "      <td>False</td>\n",
       "      <td>False</td>\n",
       "      <td>False</td>\n",
       "      <td>True</td>\n",
       "    </tr>\n",
       "    <tr>\n",
       "      <th>4</th>\n",
       "      <td>33</td>\n",
       "      <td>1</td>\n",
       "      <td>5</td>\n",
       "      <td>198</td>\n",
       "      <td>1</td>\n",
       "      <td>-1</td>\n",
       "      <td>0</td>\n",
       "      <td>0</td>\n",
       "      <td>False</td>\n",
       "      <td>False</td>\n",
       "      <td>...</td>\n",
       "      <td>False</td>\n",
       "      <td>False</td>\n",
       "      <td>False</td>\n",
       "      <td>True</td>\n",
       "      <td>False</td>\n",
       "      <td>False</td>\n",
       "      <td>False</td>\n",
       "      <td>False</td>\n",
       "      <td>False</td>\n",
       "      <td>True</td>\n",
       "    </tr>\n",
       "  </tbody>\n",
       "</table>\n",
       "<p>5 rows × 41 columns</p>\n",
       "</div>\n",
       "    <div class=\"colab-df-buttons\">\n",
       "\n",
       "  <div class=\"colab-df-container\">\n",
       "    <button class=\"colab-df-convert\" onclick=\"convertToInteractive('df-ab4953d6-689e-4e92-b6e5-bbdc1dbb367f')\"\n",
       "            title=\"Convert this dataframe to an interactive table.\"\n",
       "            style=\"display:none;\">\n",
       "\n",
       "  <svg xmlns=\"http://www.w3.org/2000/svg\" height=\"24px\" viewBox=\"0 -960 960 960\">\n",
       "    <path d=\"M120-120v-720h720v720H120Zm60-500h600v-160H180v160Zm220 220h160v-160H400v160Zm0 220h160v-160H400v160ZM180-400h160v-160H180v160Zm440 0h160v-160H620v160ZM180-180h160v-160H180v160Zm440 0h160v-160H620v160Z\"/>\n",
       "  </svg>\n",
       "    </button>\n",
       "\n",
       "  <style>\n",
       "    .colab-df-container {\n",
       "      display:flex;\n",
       "      gap: 12px;\n",
       "    }\n",
       "\n",
       "    .colab-df-convert {\n",
       "      background-color: #E8F0FE;\n",
       "      border: none;\n",
       "      border-radius: 50%;\n",
       "      cursor: pointer;\n",
       "      display: none;\n",
       "      fill: #1967D2;\n",
       "      height: 32px;\n",
       "      padding: 0 0 0 0;\n",
       "      width: 32px;\n",
       "    }\n",
       "\n",
       "    .colab-df-convert:hover {\n",
       "      background-color: #E2EBFA;\n",
       "      box-shadow: 0px 1px 2px rgba(60, 64, 67, 0.3), 0px 1px 3px 1px rgba(60, 64, 67, 0.15);\n",
       "      fill: #174EA6;\n",
       "    }\n",
       "\n",
       "    .colab-df-buttons div {\n",
       "      margin-bottom: 4px;\n",
       "    }\n",
       "\n",
       "    [theme=dark] .colab-df-convert {\n",
       "      background-color: #3B4455;\n",
       "      fill: #D2E3FC;\n",
       "    }\n",
       "\n",
       "    [theme=dark] .colab-df-convert:hover {\n",
       "      background-color: #434B5C;\n",
       "      box-shadow: 0px 1px 3px 1px rgba(0, 0, 0, 0.15);\n",
       "      filter: drop-shadow(0px 1px 2px rgba(0, 0, 0, 0.3));\n",
       "      fill: #FFFFFF;\n",
       "    }\n",
       "  </style>\n",
       "\n",
       "    <script>\n",
       "      const buttonEl =\n",
       "        document.querySelector('#df-ab4953d6-689e-4e92-b6e5-bbdc1dbb367f button.colab-df-convert');\n",
       "      buttonEl.style.display =\n",
       "        google.colab.kernel.accessAllowed ? 'block' : 'none';\n",
       "\n",
       "      async function convertToInteractive(key) {\n",
       "        const element = document.querySelector('#df-ab4953d6-689e-4e92-b6e5-bbdc1dbb367f');\n",
       "        const dataTable =\n",
       "          await google.colab.kernel.invokeFunction('convertToInteractive',\n",
       "                                                    [key], {});\n",
       "        if (!dataTable) return;\n",
       "\n",
       "        const docLinkHtml = 'Like what you see? Visit the ' +\n",
       "          '<a target=\"_blank\" href=https://colab.research.google.com/notebooks/data_table.ipynb>data table notebook</a>'\n",
       "          + ' to learn more about interactive tables.';\n",
       "        element.innerHTML = '';\n",
       "        dataTable['output_type'] = 'display_data';\n",
       "        await google.colab.output.renderOutput(dataTable, element);\n",
       "        const docLink = document.createElement('div');\n",
       "        docLink.innerHTML = docLinkHtml;\n",
       "        element.appendChild(docLink);\n",
       "      }\n",
       "    </script>\n",
       "  </div>\n",
       "\n",
       "\n",
       "<div id=\"df-80598649-24ab-46ac-ae3f-08783de58d70\">\n",
       "  <button class=\"colab-df-quickchart\" onclick=\"quickchart('df-80598649-24ab-46ac-ae3f-08783de58d70')\"\n",
       "            title=\"Suggest charts\"\n",
       "            style=\"display:none;\">\n",
       "\n",
       "<svg xmlns=\"http://www.w3.org/2000/svg\" height=\"24px\"viewBox=\"0 0 24 24\"\n",
       "     width=\"24px\">\n",
       "    <g>\n",
       "        <path d=\"M19 3H5c-1.1 0-2 .9-2 2v14c0 1.1.9 2 2 2h14c1.1 0 2-.9 2-2V5c0-1.1-.9-2-2-2zM9 17H7v-7h2v7zm4 0h-2V7h2v10zm4 0h-2v-4h2v4z\"/>\n",
       "    </g>\n",
       "</svg>\n",
       "  </button>\n",
       "\n",
       "<style>\n",
       "  .colab-df-quickchart {\n",
       "      --bg-color: #E8F0FE;\n",
       "      --fill-color: #1967D2;\n",
       "      --hover-bg-color: #E2EBFA;\n",
       "      --hover-fill-color: #174EA6;\n",
       "      --disabled-fill-color: #AAA;\n",
       "      --disabled-bg-color: #DDD;\n",
       "  }\n",
       "\n",
       "  [theme=dark] .colab-df-quickchart {\n",
       "      --bg-color: #3B4455;\n",
       "      --fill-color: #D2E3FC;\n",
       "      --hover-bg-color: #434B5C;\n",
       "      --hover-fill-color: #FFFFFF;\n",
       "      --disabled-bg-color: #3B4455;\n",
       "      --disabled-fill-color: #666;\n",
       "  }\n",
       "\n",
       "  .colab-df-quickchart {\n",
       "    background-color: var(--bg-color);\n",
       "    border: none;\n",
       "    border-radius: 50%;\n",
       "    cursor: pointer;\n",
       "    display: none;\n",
       "    fill: var(--fill-color);\n",
       "    height: 32px;\n",
       "    padding: 0;\n",
       "    width: 32px;\n",
       "  }\n",
       "\n",
       "  .colab-df-quickchart:hover {\n",
       "    background-color: var(--hover-bg-color);\n",
       "    box-shadow: 0 1px 2px rgba(60, 64, 67, 0.3), 0 1px 3px 1px rgba(60, 64, 67, 0.15);\n",
       "    fill: var(--button-hover-fill-color);\n",
       "  }\n",
       "\n",
       "  .colab-df-quickchart-complete:disabled,\n",
       "  .colab-df-quickchart-complete:disabled:hover {\n",
       "    background-color: var(--disabled-bg-color);\n",
       "    fill: var(--disabled-fill-color);\n",
       "    box-shadow: none;\n",
       "  }\n",
       "\n",
       "  .colab-df-spinner {\n",
       "    border: 2px solid var(--fill-color);\n",
       "    border-color: transparent;\n",
       "    border-bottom-color: var(--fill-color);\n",
       "    animation:\n",
       "      spin 1s steps(1) infinite;\n",
       "  }\n",
       "\n",
       "  @keyframes spin {\n",
       "    0% {\n",
       "      border-color: transparent;\n",
       "      border-bottom-color: var(--fill-color);\n",
       "      border-left-color: var(--fill-color);\n",
       "    }\n",
       "    20% {\n",
       "      border-color: transparent;\n",
       "      border-left-color: var(--fill-color);\n",
       "      border-top-color: var(--fill-color);\n",
       "    }\n",
       "    30% {\n",
       "      border-color: transparent;\n",
       "      border-left-color: var(--fill-color);\n",
       "      border-top-color: var(--fill-color);\n",
       "      border-right-color: var(--fill-color);\n",
       "    }\n",
       "    40% {\n",
       "      border-color: transparent;\n",
       "      border-right-color: var(--fill-color);\n",
       "      border-top-color: var(--fill-color);\n",
       "    }\n",
       "    60% {\n",
       "      border-color: transparent;\n",
       "      border-right-color: var(--fill-color);\n",
       "    }\n",
       "    80% {\n",
       "      border-color: transparent;\n",
       "      border-right-color: var(--fill-color);\n",
       "      border-bottom-color: var(--fill-color);\n",
       "    }\n",
       "    90% {\n",
       "      border-color: transparent;\n",
       "      border-bottom-color: var(--fill-color);\n",
       "    }\n",
       "  }\n",
       "</style>\n",
       "\n",
       "  <script>\n",
       "    async function quickchart(key) {\n",
       "      const quickchartButtonEl =\n",
       "        document.querySelector('#' + key + ' button');\n",
       "      quickchartButtonEl.disabled = true;  // To prevent multiple clicks.\n",
       "      quickchartButtonEl.classList.add('colab-df-spinner');\n",
       "      try {\n",
       "        const charts = await google.colab.kernel.invokeFunction(\n",
       "            'suggestCharts', [key], {});\n",
       "      } catch (error) {\n",
       "        console.error('Error during call to suggestCharts:', error);\n",
       "      }\n",
       "      quickchartButtonEl.classList.remove('colab-df-spinner');\n",
       "      quickchartButtonEl.classList.add('colab-df-quickchart-complete');\n",
       "    }\n",
       "    (() => {\n",
       "      let quickchartButtonEl =\n",
       "        document.querySelector('#df-80598649-24ab-46ac-ae3f-08783de58d70 button');\n",
       "      quickchartButtonEl.style.display =\n",
       "        google.colab.kernel.accessAllowed ? 'block' : 'none';\n",
       "    })();\n",
       "  </script>\n",
       "</div>\n",
       "\n",
       "    </div>\n",
       "  </div>\n"
      ],
      "text/plain": [
       "   age  balance  day  duration  campaign  pdays  previous  y  job_blue-collar  \\\n",
       "0   58     2143    5       261         1     -1         0  0            False   \n",
       "1   44       29    5       151         1     -1         0  0            False   \n",
       "2   33        2    5        76         1     -1         0  0            False   \n",
       "3   47     1506    5        92         1     -1         0  0             True   \n",
       "4   33        1    5       198         1     -1         0  0            False   \n",
       "\n",
       "   job_entrepreneur  ...  month_jul  month_jun  month_mar  month_may  \\\n",
       "0             False  ...      False      False      False       True   \n",
       "1             False  ...      False      False      False       True   \n",
       "2              True  ...      False      False      False       True   \n",
       "3             False  ...      False      False      False       True   \n",
       "4             False  ...      False      False      False       True   \n",
       "\n",
       "   month_nov  month_oct  month_sep  poutcome_other  poutcome_success  \\\n",
       "0      False      False      False           False             False   \n",
       "1      False      False      False           False             False   \n",
       "2      False      False      False           False             False   \n",
       "3      False      False      False           False             False   \n",
       "4      False      False      False           False             False   \n",
       "\n",
       "   poutcome_unknown  \n",
       "0              True  \n",
       "1              True  \n",
       "2              True  \n",
       "3              True  \n",
       "4              True  \n",
       "\n",
       "[5 rows x 41 columns]"
      ]
     },
     "execution_count": 18,
     "metadata": {},
     "output_type": "execute_result"
    }
   ],
   "source": [
    "df_encoded = pd.get_dummies(df, drop_first=True)\n",
    "df_encoded.head()"
   ]
  },
  {
   "cell_type": "markdown",
   "metadata": {
    "id": "d8eI3-7k8URe"
   },
   "source": [
    "Создайте корреляционную матрицу для числовых признаков вашего датасета.\n",
    "В корреляционной матрице вычислите коэффициент корреляции между каждой парой признаков.\n",
    "\n",
    "Какие два признака имеют наибольшую корреляцию?\n",
    "\n",
    "age и balance\n",
    "day и campaign\n",
    "day и pdays\n",
    "pdays и previous"
   ]
  },
  {
   "cell_type": "code",
   "execution_count": null,
   "metadata": {
    "colab": {
     "base_uri": "https://localhost:8080/",
     "height": 682
    },
    "executionInfo": {
     "elapsed": 1890,
     "status": "ok",
     "timestamp": 1729588091974,
     "user": {
      "displayName": "Yegor Popov",
      "userId": "06042124413976751542"
     },
     "user_tz": -180
    },
    "id": "c_Hi7J5yBelF",
    "outputId": "59c514b7-e8e1-4c3b-e358-050a3326c6ef"
   },
   "outputs": [
    {
     "data": {
      "image/png": "[encoded data removed]",
      "text/plain": [
       "<Figure size 1000x800 with 2 Axes>"
      ]
     },
     "metadata": {},
     "output_type": "display_data"
    }
   ],
   "source": [
    "import seaborn as sns\n",
    "import matplotlib.pyplot as plt\n",
    "\n",
    "\n",
    "plt.figure(figsize=(10, 8))\n",
    "sns.heatmap(df_selected.corr(), annot=True, cmap='coolwarm', fmt='.2f', linewidths=0.5)\n",
    "\n",
    "plt.show()"
   ]
  },
  {
   "cell_type": "code",
   "execution_count": null,
   "metadata": {
    "colab": {
     "base_uri": "https://localhost:8080/"
    },
    "executionInfo": {
     "elapsed": 323,
     "status": "ok",
     "timestamp": 1729588757535,
     "user": {
      "displayName": "Yegor Popov",
      "userId": "06042124413976751542"
     },
     "user_tz": -180
    },
    "id": "nvV27ZbRgwkR",
    "outputId": "afec0020-3e6c-4fce-b83b-de7fb2e90470"
   },
   "outputs": [
    {
     "name": "stdout",
     "output_type": "stream",
     "text": [
      "y                      1.000000\n",
      "duration               0.394521\n",
      "poutcome_success       0.306788\n",
      "month_mar              0.129456\n",
      "month_oct              0.128531\n",
      "month_sep              0.123185\n",
      "pdays                  0.103621\n",
      "previous               0.093236\n",
      "job_retired            0.079245\n",
      "job_student            0.076897\n",
      "month_dec              0.075164\n",
      "education_tertiary     0.066448\n",
      "marital_single         0.063526\n",
      "balance                0.052838\n",
      "month_feb              0.038417\n",
      "job_management         0.032919\n",
      "poutcome_other         0.031955\n",
      "age                    0.025155\n",
      "job_unemployed         0.020390\n",
      "contact_telephone      0.014042\n",
      "education_unknown      0.012053\n",
      "job_self-employed      0.000855\n",
      "job_unknown            0.000267\n",
      "month_aug             -0.008536\n",
      "month_jan             -0.008783\n",
      "job_technician        -0.008970\n",
      "month_nov             -0.014937\n",
      "job_housemaid         -0.015195\n",
      "month_jun             -0.016805\n",
      "job_entrepreneur      -0.019662\n",
      "job_services          -0.027864\n",
      "day                   -0.028348\n",
      "month_jul             -0.034382\n",
      "education_secondary   -0.036388\n",
      "marital_married       -0.060260\n",
      "job_blue-collar       -0.072083\n",
      "campaign              -0.073172\n",
      "month_may             -0.102500\n",
      "housing_yes           -0.139173\n",
      "contact_unknown       -0.150935\n",
      "poutcome_unknown      -0.167051\n",
      "Name: y, dtype: float64\n"
     ]
    }
   ],
   "source": [
    "corr_matrix = df_encoded.corr()\n",
    "target_corr = corr_matrix['y'].sort_values(ascending=False)\n",
    "print(target_corr)"
   ]
  },
  {
   "cell_type": "markdown",
   "metadata": {
    "id": "kdSVGqKs8ROm"
   },
   "source": [
    "Кодирование целевой переменной\n",
    "Теперь нам нужно закодировать переменную y.\n",
    "Замените значения yes/no на 1/0."
   ]
  },
  {
   "cell_type": "code",
   "execution_count": null,
   "metadata": {
    "executionInfo": {
     "elapsed": 334,
     "status": "ok",
     "timestamp": 1729588095846,
     "user": {
      "displayName": "Yegor Popov",
      "userId": "06042124413976751542"
     },
     "user_tz": -180
    },
    "id": "o2fEx0wAFrAF"
   },
   "outputs": [],
   "source": [
    "df['y']=df['y'].map({'yes':1, \"no\":0})"
   ]
  },
  {
   "cell_type": "markdown",
   "metadata": {
    "id": "l7jUgNhPuI5L"
   },
   "source": [
    "Вопрос 3\n",
    "\n",
    "Рассчитайте взаимную информацию между y и другими категориальными переменными в датасете. Используйте только тренировочный набор.\n",
    "Округлите результаты до двух знаков после запятой с помощью round(score, 2).\n",
    "Какая из этих переменных имеет наибольшую взаимную информацию?\n",
    "\n",
    "contact\n",
    "education\n",
    "housing\n",
    "poutcome"
   ]
  },
  {
   "cell_type": "code",
   "execution_count": null,
   "metadata": {
    "colab": {
     "base_uri": "https://localhost:8080/"
    },
    "executionInfo": {
     "elapsed": 324,
     "status": "ok",
     "timestamp": 1729592938909,
     "user": {
      "displayName": "Yegor Popov",
      "userId": "06042124413976751542"
     },
     "user_tz": -180
    },
    "id": "05NRFQpGt_yL",
    "outputId": "94d88621-9533-4ba8-cc9f-2e2c4bb4853d"
   },
   "outputs": [
    {
     "name": "stdout",
     "output_type": "stream",
     "text": [
      "0.01\n",
      "0.0\n",
      "0.01\n",
      "0.03\n"
     ]
    }
   ],
   "source": [
    "from sklearn.metrics import mutual_info_score\n",
    "\n",
    "print(round(mutual_info_score(df.y, df['contact']), 2))\n",
    "\n",
    "print(round(mutual_info_score(df.y, df['education']), 2))\n",
    "\n",
    "print(round(mutual_info_score(df.y, df['housing']), 2))\n",
    "\n",
    "print(round(mutual_info_score(df.y, df['poutcome']), 2))"
   ]
  },
  {
   "cell_type": "markdown",
   "metadata": {
    "id": "OgOuSyVa8BLF"
   },
   "source": [
    "Разделение данных\n",
    "Разделите данные на тренировочный/валидационный/тестовый наборы с распределением 60%/20%/20%.\n",
    "Используйте для этого Scikit-Learn (функцию train_test_split) и установите seed на 42.\n",
    "Убедитесь, что целевая переменная y не включена в датафрейм."
   ]
  },
  {
   "cell_type": "code",
   "execution_count": null,
   "metadata": {
    "executionInfo": {
     "elapsed": 330,
     "status": "ok",
     "timestamp": 1729595560687,
     "user": {
      "displayName": "Yegor Popov",
      "userId": "06042124413976751542"
     },
     "user_tz": -180
    },
    "id": "3CqGuRgXsxdx"
   },
   "outputs": [],
   "source": [
    "from sklearn.model_selection import train_test_split\n",
    "\n",
    "X = df_encoded.drop('y', axis=1)\n",
    "y = df_encoded['y']\n",
    "\n",
    "X_train, X_temp, y_train, y_temp = train_test_split(X, y, test_size=0.4, random_state=42)\n",
    "\n",
    "X_val, X_test, y_val, y_test = train_test_split(X_temp, y_temp, test_size=0.5, random_state=42)\n"
   ]
  },
  {
   "cell_type": "markdown",
   "metadata": {
    "id": "0I1-1aWr7nQZ"
   },
   "source": [
    "Вопрос 4\n",
    "\n",
    "Теперь обучим логистическую регрессию.\n",
    "Не забывайте, что в датасете есть несколько категориальных переменных. Включите их с использованием one-hot кодирования.\n",
    "Обучите модель на тренировочном наборе данных.\n",
    "Чтобы гарантировать воспроизводимость результатов в разных версиях Scikit-Learn, обучите модель с такими параметрами:\n",
    "model = LogisticRegression(solver='liblinear', C=1.0, max_iter=1000, random_state=42)\n",
    "Рассчитайте точность на валидационном наборе данных и округлите ее до двух знаков после запятой.\n",
    "Какую точность вы получили?\n",
    "\n",
    "0.6\n",
    "0.7\n",
    "0.8\n",
    "0.9"
   ]
  },
  {
   "cell_type": "code",
   "execution_count": 31,
   "metadata": {
    "colab": {
     "base_uri": "https://localhost:8080/"
    },
    "executionInfo": {
     "elapsed": 615,
     "status": "ok",
     "timestamp": 1729593631987,
     "user": {
      "displayName": "Yegor Popov",
      "userId": "06042124413976751542"
     },
     "user_tz": -180
    },
    "id": "lZp0EwUmzD23",
    "outputId": "22672864-ba62-4ee0-f381-14aa3f916d75"
   },
   "outputs": [
    {
     "name": "stdout",
     "output_type": "stream",
     "text": [
      "0.9\n"
     ]
    }
   ],
   "source": [
    "from sklearn.linear_model import LogisticRegression\n",
    "from sklearn.metrics import accuracy_score\n",
    "model = LogisticRegression(solver = 'liblinear', C = 1.0, max_iter=100, random_state=42)\n",
    "model.fit(X_train, y_train)\n",
    "y_pred = model.predict(X_val)\n",
    "print(round(accuracy_score(y_val, y_pred), 2))"
   ]
  },
  {
   "cell_type": "markdown",
   "metadata": {
    "id": "8m3N1G7U7T0t"
   },
   "source": [
    "Вопрос 5\n",
    "\n",
    "Давайте найдем наименее полезный признак, используя технику feature elimination.\n",
    "Обучите модель со всеми этими признаками (используя те же параметры, что и в Q4).\n",
    "Теперь исключите каждый признак по очереди и обучите модель без него. Запишите точность для каждой модели.\n",
    "Для каждого признака рассчитайте разницу между исходной точностью и точностью без этого признака.\n",
    "Какой из следующих признаков имеет наименьшую разницу?\n",
    "\n",
    "age\n",
    "balance\n",
    "marital\n",
    "previous"
   ]
  },
  {
   "cell_type": "code",
   "execution_count": 42,
   "metadata": {
    "colab": {
     "base_uri": "https://localhost:8080/"
    },
    "executionInfo": {
     "elapsed": 1565,
     "status": "ok",
     "timestamp": 1729594937400,
     "user": {
      "displayName": "Yegor Popov",
      "userId": "06042124413976751542"
     },
     "user_tz": -180
    },
    "id": "vyPmHEFz1nHc",
    "outputId": "e8dd4910-3f2a-410f-d384-7166d2de51f7"
   },
   "outputs": [
    {
     "name": "stdout",
     "output_type": "stream",
     "text": [
      "marital -0.0003\n",
      "age -0.0004\n",
      "balance -0.0001\n",
      "previous -0.0003\n"
     ]
    }
   ],
   "source": [
    "\n",
    "categorical_features = {\n",
    "    'marital': [col for col in X_train.columns if col.startswith('marital')],\n",
    "    'age': ['age'],\n",
    "    'balance': ['balance'],\n",
    "    'previous': ['previous']\n",
    "}\n",
    "\n",
    "\n",
    "def train_without_encoded_feature(feature_group):\n",
    "    X_train_reduced = X_train.drop(columns=feature_group)\n",
    "    X_val_reduced = X_val.drop(columns=feature_group)\n",
    "\n",
    "    model = LogisticRegression(solver='liblinear', C=1.0, max_iter=1000, random_state=42)\n",
    "    model.fit(X_train_reduced, y_train)\n",
    "\n",
    "    y_val_pred = model.predict(X_val_reduced)\n",
    "    return accuracy_score(y_val, y_val_pred)\n",
    "\n",
    "\n",
    "\n",
    "for feature, cols in categorical_features.items():\n",
    "    accuracy_without_feature = train_without_encoded_feature(cols)\n",
    "    accuracy_drop = original_accuracy - accuracy_without_feature\n",
    "    print(feature, round(accuracy_drop, 4))\n",
    "\n"
   ]
  },
  {
   "cell_type": "markdown",
   "metadata": {
    "id": "HGiiRfrT7Bhr"
   },
   "source": [
    "наименьшая разница accuracy_drop у age"
   ]
  },
  {
   "cell_type": "markdown",
   "metadata": {
    "id": "LyAcG-QX616a"
   },
   "source": [
    "Вопрос 6\n",
    "\n",
    "Теперь давайте обучим регуляризованную логистическую регрессию.\n",
    "Попробуем следующие значения параметра C: [0, 0.01, 0.1, 1, 10].\n",
    "Обучите модели с использованием всех признаков, как в 4 вопросе.\n",
    "Рассчитайте точность на валидационном наборе данных и округлите ее до трех знаков после запятой.\n",
    "Какое из значений C приводит к наилучшей точности на валидационном наборе?\n",
    "\n",
    "0.01\n",
    "0.1\n",
    "1\n",
    "10\n",
    "100"
   ]
  },
  {
   "cell_type": "code",
   "execution_count": 46,
   "metadata": {
    "colab": {
     "base_uri": "https://localhost:8080/"
    },
    "executionInfo": {
     "elapsed": 1836,
     "status": "ok",
     "timestamp": 1729595376724,
     "user": {
      "displayName": "Yegor Popov",
      "userId": "06042124413976751542"
     },
     "user_tz": -180
    },
    "id": "mu7oxNiL5dgV",
    "outputId": "45c095f9-02dc-47a6-e987-6ef9f850e3a0"
   },
   "outputs": [
    {
     "name": "stdout",
     "output_type": "stream",
     "text": [
      "0.01 0.898\n",
      "0.1 0.901\n",
      "1 0.9\n",
      "10 0.901\n",
      "100 0.9\n"
     ]
    }
   ],
   "source": [
    "C_values = [0.01, 0.1, 1, 10, 100]\n",
    "\n",
    "def train(C_):\n",
    "\n",
    "    model = LogisticRegression(solver='liblinear', C=C_, max_iter=1000, random_state=42)\n",
    "    model.fit(X_train, y_train)\n",
    "\n",
    "    y_val_pred = model.predict(X_val)\n",
    "    return round(accuracy_score(y_val, y_val_pred), 3)\n",
    "\n",
    "for C_ in C_values:\n",
    "    print(C_, train(C_))\n"
   ]
  },
  {
   "cell_type": "markdown",
   "metadata": {
    "id": "wRFynoSV6xxz"
   },
   "source": [
    "лучшая точность у С=10"
   ]
  },
  {
   "cell_type": "markdown",
   "metadata": {
    "id": "SOX2KMGl5Y8e"
   },
   "source": [
    "наименьшая разница у age"
   ]
  }
 ],
 "metadata": {
  "colab": {
   "authorship_tag": "ABX9TyNPpeEf2JEuEftgQnU5zbUi",
   "provenance": []
  },
  "kernelspec": {
   "display_name": "Python 3",
   "name": "python3"
  },
  "language_info": {
   "name": "python"
  }
 },
 "nbformat": 4,
 "nbformat_minor": 0
}
